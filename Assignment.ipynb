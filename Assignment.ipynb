{
 "cells": [
  {
   "cell_type": "markdown",
   "id": "68833885",
   "metadata": {},
   "source": [
    "# End‑to‑End Time‑Series Modeling: LightGBM & XGBoost on Multi‑Ticker EOD Data\n",
    "\n",
    "**Files expected in this folder:**\n",
    "- `Interview.parquet` – training/validation period\n",
    "- `Interview_info.parquet` – column metadata\n",
    "- `Interview_test.parquet` – testing period\n",
    "\n",
    "This notebook:\n",
    "1. Cleans and prepares the data for time‑series analysis.\n",
    "2. Proposes a **grouping method** for tickers via KMeans using mean price, volatility and mean volume.\n",
    "3. Engineers features (lags, rolling stats, RSI, log_return, volatility, roc, vwap etc).\n",
    "4. Trains **LightGBM** and **XGBoost for every ticker** (or restricted to a selected subgroup).\n",
    "5. Evaluates on a time‑based validation split and on the provided test set.\n",
    "\n",
    "> **Assumptions**\n",
    "> - No target leakage: we only use historical data to predict **next‑day close** (you can switch to `volume` or others).\n",
    "> - We avoid time‑series *statistical* model packages for modeling (OK for analysis), and use ML packages (LightGBM, XGBoost).\n"
   ]
  },
  {
   "cell_type": "markdown",
   "id": "8fb28aea",
   "metadata": {},
   "source": [
    "# 1. Load and check the Datasets"
   ]
  },
  {
   "cell_type": "code",
   "execution_count": 1,
   "id": "7568d472",
   "metadata": {},
   "outputs": [],
   "source": [
    "import pickle\n",
    "import numpy as np\n",
    "import pandas as pd\n",
    "import xgboost as xgb\n",
    "import lightgbm as lgb\n",
    "import matplotlib.pyplot as plt\n",
    "from sklearn.cluster import KMeans\n",
    "from sklearn.preprocessing import StandardScaler, MinMaxScaler\n",
    "from sklearn.metrics import mean_squared_error, mean_absolute_error\n",
    "\n",
    "# import torch\n",
    "# import torch.nn as nn from torch.utils.data import DataLoader, TensorDataset\n",
    "# from sklearn.preprocessing import StandardScaler\n",
    "import warnings\n",
    "warnings.filterwarnings('ignore')\n",
    "\n",
    "# Reading all the datasets\n",
    "info = pd.read_parquet('Interview_info.parquet', engine=\"pyarrow\")\n",
    "train = pd.read_parquet('Interview.parquet', engine=\"pyarrow\")\n",
    "test = pd.read_parquet('Interview_test.parquet', engine=\"pyarrow\")"
   ]
  },
  {
   "cell_type": "code",
   "execution_count": 2,
   "id": "8b6c858c",
   "metadata": {},
   "outputs": [
    {
     "data": {
      "application/vnd.microsoft.datawrangler.viewer.v0+json": {
       "columns": [
        {
         "name": "index",
         "rawType": "int64",
         "type": "integer"
        },
        {
         "name": "indicator",
         "rawType": "object",
         "type": "string"
        },
        {
         "name": "title",
         "rawType": "object",
         "type": "string"
        },
        {
         "name": "description",
         "rawType": "object",
         "type": "string"
        },
        {
         "name": "unittype",
         "rawType": "object",
         "type": "string"
        }
       ],
       "ref": "87177ab0-7a2b-408c-9b3f-da8f60a7bac4",
       "rows": [
        [
         "0",
         "open",
         "Open Price - Split Adjusted",
         "The official exchange opening price; adjusted for stock splits and stock dividends. Not adjusted for cash dividends or spinoffs.",
         "USD/share"
        ],
        [
         "1",
         "ticker",
         "Ticker Symbol",
         "Anonymized ticker symbol.The ticker is a unique identifier for a security in the database",
         "text"
        ],
        [
         "2",
         "date",
         "Price Date",
         "The trade date of the price observations.",
         "date (YYYY-MM-DD)"
        ],
        [
         "3",
         "high",
         "High Price - Split Adjusted",
         "The high share price; adjusted for stock splits and stock dividends. Not adjusted for cash dividends or spinoffs.",
         "USD/share"
        ],
        [
         "4",
         "low",
         "Low Price - Split Adjusted",
         "The low share price; adjusted for stock splits and stock dividends. Not adjusted for cash dividends or spinoffs.",
         "USD/share"
        ],
        [
         "5",
         "close",
         "Close Price - Split Adjusted",
         "The official exchange close price; adjusted for stock splits and stock dividends. Not adjusted for cash dividends or spinoffs.",
         "USD/share"
        ],
        [
         "6",
         "volume",
         "Volume - Split Adjusted",
         "The daily traded volume across all exchanges; adjusted for stock splits and stock dividends. Not adjusted for cash dividends or spinoffs. Includes opening and closing cross volumes if applicable.",
         "numeric"
        ],
        [
         "7",
         "closeadj",
         "Close Price - Adjusted for Splits Dividends and Spinoffs",
         "The official exchange close price; adjusted for stock splits; stock dividends; cash dividends and spinoffs.",
         "USD/share"
        ],
        [
         "8",
         "closeunadj",
         "Close Price - Unadjusted",
         "The official exchange close price; not adjusted for stock splits; stock dividends; cash dividends or spinoffs.",
         "USD/share"
        ]
       ],
       "shape": {
        "columns": 4,
        "rows": 9
       }
      },
      "text/html": [
       "<div>\n",
       "<style scoped>\n",
       "    .dataframe tbody tr th:only-of-type {\n",
       "        vertical-align: middle;\n",
       "    }\n",
       "\n",
       "    .dataframe tbody tr th {\n",
       "        vertical-align: top;\n",
       "    }\n",
       "\n",
       "    .dataframe thead th {\n",
       "        text-align: right;\n",
       "    }\n",
       "</style>\n",
       "<table border=\"1\" class=\"dataframe\">\n",
       "  <thead>\n",
       "    <tr style=\"text-align: right;\">\n",
       "      <th></th>\n",
       "      <th>indicator</th>\n",
       "      <th>title</th>\n",
       "      <th>description</th>\n",
       "      <th>unittype</th>\n",
       "    </tr>\n",
       "  </thead>\n",
       "  <tbody>\n",
       "    <tr>\n",
       "      <th>0</th>\n",
       "      <td>open</td>\n",
       "      <td>Open Price - Split Adjusted</td>\n",
       "      <td>The official exchange opening price; adjusted ...</td>\n",
       "      <td>USD/share</td>\n",
       "    </tr>\n",
       "    <tr>\n",
       "      <th>1</th>\n",
       "      <td>ticker</td>\n",
       "      <td>Ticker Symbol</td>\n",
       "      <td>Anonymized ticker symbol.The ticker is a uniqu...</td>\n",
       "      <td>text</td>\n",
       "    </tr>\n",
       "    <tr>\n",
       "      <th>2</th>\n",
       "      <td>date</td>\n",
       "      <td>Price Date</td>\n",
       "      <td>The trade date of the price observations.</td>\n",
       "      <td>date (YYYY-MM-DD)</td>\n",
       "    </tr>\n",
       "    <tr>\n",
       "      <th>3</th>\n",
       "      <td>high</td>\n",
       "      <td>High Price - Split Adjusted</td>\n",
       "      <td>The high share price; adjusted for stock split...</td>\n",
       "      <td>USD/share</td>\n",
       "    </tr>\n",
       "    <tr>\n",
       "      <th>4</th>\n",
       "      <td>low</td>\n",
       "      <td>Low Price - Split Adjusted</td>\n",
       "      <td>The low share price; adjusted for stock splits...</td>\n",
       "      <td>USD/share</td>\n",
       "    </tr>\n",
       "    <tr>\n",
       "      <th>5</th>\n",
       "      <td>close</td>\n",
       "      <td>Close Price - Split Adjusted</td>\n",
       "      <td>The official exchange close price; adjusted fo...</td>\n",
       "      <td>USD/share</td>\n",
       "    </tr>\n",
       "    <tr>\n",
       "      <th>6</th>\n",
       "      <td>volume</td>\n",
       "      <td>Volume - Split Adjusted</td>\n",
       "      <td>The daily traded volume across all exchanges; ...</td>\n",
       "      <td>numeric</td>\n",
       "    </tr>\n",
       "    <tr>\n",
       "      <th>7</th>\n",
       "      <td>closeadj</td>\n",
       "      <td>Close Price - Adjusted for Splits Dividends an...</td>\n",
       "      <td>The official exchange close price; adjusted fo...</td>\n",
       "      <td>USD/share</td>\n",
       "    </tr>\n",
       "    <tr>\n",
       "      <th>8</th>\n",
       "      <td>closeunadj</td>\n",
       "      <td>Close Price - Unadjusted</td>\n",
       "      <td>The official exchange close price; not adjuste...</td>\n",
       "      <td>USD/share</td>\n",
       "    </tr>\n",
       "  </tbody>\n",
       "</table>\n",
       "</div>"
      ],
      "text/plain": [
       "    indicator                                              title  \\\n",
       "0        open                        Open Price - Split Adjusted   \n",
       "1      ticker                                      Ticker Symbol   \n",
       "2        date                                         Price Date   \n",
       "3        high                        High Price - Split Adjusted   \n",
       "4         low                         Low Price - Split Adjusted   \n",
       "5       close                       Close Price - Split Adjusted   \n",
       "6      volume                            Volume - Split Adjusted   \n",
       "7    closeadj  Close Price - Adjusted for Splits Dividends an...   \n",
       "8  closeunadj                           Close Price - Unadjusted   \n",
       "\n",
       "                                         description           unittype  \n",
       "0  The official exchange opening price; adjusted ...          USD/share  \n",
       "1  Anonymized ticker symbol.The ticker is a uniqu...               text  \n",
       "2          The trade date of the price observations.  date (YYYY-MM-DD)  \n",
       "3  The high share price; adjusted for stock split...          USD/share  \n",
       "4  The low share price; adjusted for stock splits...          USD/share  \n",
       "5  The official exchange close price; adjusted fo...          USD/share  \n",
       "6  The daily traded volume across all exchanges; ...            numeric  \n",
       "7  The official exchange close price; adjusted fo...          USD/share  \n",
       "8  The official exchange close price; not adjuste...          USD/share  "
      ]
     },
     "execution_count": 2,
     "metadata": {},
     "output_type": "execute_result"
    }
   ],
   "source": [
    "# View the info first\n",
    "info"
   ]
  },
  {
   "cell_type": "code",
   "execution_count": 3,
   "id": "a555082c",
   "metadata": {},
   "outputs": [
    {
     "data": {
      "application/vnd.microsoft.datawrangler.viewer.v0+json": {
       "columns": [
        {
         "name": "index",
         "rawType": "int64",
         "type": "integer"
        },
        {
         "name": "date",
         "rawType": "datetime64[ns]",
         "type": "datetime"
        },
        {
         "name": "open",
         "rawType": "float64",
         "type": "float"
        },
        {
         "name": "high",
         "rawType": "float64",
         "type": "float"
        },
        {
         "name": "low",
         "rawType": "float64",
         "type": "float"
        },
        {
         "name": "close",
         "rawType": "float64",
         "type": "float"
        },
        {
         "name": "volume",
         "rawType": "float64",
         "type": "float"
        },
        {
         "name": "closeadj",
         "rawType": "float64",
         "type": "float"
        },
        {
         "name": "closeunadj",
         "rawType": "float64",
         "type": "float"
        },
        {
         "name": "ticker",
         "rawType": "object",
         "type": "string"
        }
       ],
       "ref": "ea008bf0-e868-4496-9a98-8b04d2808d26",
       "rows": [
        [
         "0",
         "2024-01-30 00:00:00",
         "18.8",
         "18.87",
         "18.67",
         "18.77",
         "44712.0",
         "18.77",
         "18.77",
         "EkEuXFUQrK"
        ],
        [
         "1",
         "2024-04-04 00:00:00",
         "20.02",
         "20.22",
         "20.02",
         "20.22",
         "17117.0",
         "20.22",
         "20.22",
         "EkEuXFUQrK"
        ],
        [
         "2",
         "2024-04-04 00:00:00",
         "10.24",
         "10.24",
         "10.24",
         "10.24",
         "973.0",
         "10.24",
         "10.24",
         "ZL4m1dXqNc"
        ],
        [
         "3",
         "2024-04-03 00:00:00",
         "10.3",
         "10.3",
         "10.3",
         "10.3",
         "0.0",
         "10.3",
         "10.3",
         "ZL4m1dXqNc"
        ],
        [
         "4",
         "2024-04-04 00:00:00",
         "180.2",
         "184.43",
         "179.75",
         "181.57",
         "945184.0",
         "181.57",
         "181.57",
         "31cWpkAP9J"
        ]
       ],
       "shape": {
        "columns": 9,
        "rows": 5
       }
      },
      "text/html": [
       "<div>\n",
       "<style scoped>\n",
       "    .dataframe tbody tr th:only-of-type {\n",
       "        vertical-align: middle;\n",
       "    }\n",
       "\n",
       "    .dataframe tbody tr th {\n",
       "        vertical-align: top;\n",
       "    }\n",
       "\n",
       "    .dataframe thead th {\n",
       "        text-align: right;\n",
       "    }\n",
       "</style>\n",
       "<table border=\"1\" class=\"dataframe\">\n",
       "  <thead>\n",
       "    <tr style=\"text-align: right;\">\n",
       "      <th></th>\n",
       "      <th>date</th>\n",
       "      <th>open</th>\n",
       "      <th>high</th>\n",
       "      <th>low</th>\n",
       "      <th>close</th>\n",
       "      <th>volume</th>\n",
       "      <th>closeadj</th>\n",
       "      <th>closeunadj</th>\n",
       "      <th>ticker</th>\n",
       "    </tr>\n",
       "  </thead>\n",
       "  <tbody>\n",
       "    <tr>\n",
       "      <th>0</th>\n",
       "      <td>2024-01-30</td>\n",
       "      <td>18.80</td>\n",
       "      <td>18.87</td>\n",
       "      <td>18.67</td>\n",
       "      <td>18.77</td>\n",
       "      <td>44712.0</td>\n",
       "      <td>18.77</td>\n",
       "      <td>18.77</td>\n",
       "      <td>EkEuXFUQrK</td>\n",
       "    </tr>\n",
       "    <tr>\n",
       "      <th>1</th>\n",
       "      <td>2024-04-04</td>\n",
       "      <td>20.02</td>\n",
       "      <td>20.22</td>\n",
       "      <td>20.02</td>\n",
       "      <td>20.22</td>\n",
       "      <td>17117.0</td>\n",
       "      <td>20.22</td>\n",
       "      <td>20.22</td>\n",
       "      <td>EkEuXFUQrK</td>\n",
       "    </tr>\n",
       "    <tr>\n",
       "      <th>2</th>\n",
       "      <td>2024-04-04</td>\n",
       "      <td>10.24</td>\n",
       "      <td>10.24</td>\n",
       "      <td>10.24</td>\n",
       "      <td>10.24</td>\n",
       "      <td>973.0</td>\n",
       "      <td>10.24</td>\n",
       "      <td>10.24</td>\n",
       "      <td>ZL4m1dXqNc</td>\n",
       "    </tr>\n",
       "    <tr>\n",
       "      <th>3</th>\n",
       "      <td>2024-04-03</td>\n",
       "      <td>10.30</td>\n",
       "      <td>10.30</td>\n",
       "      <td>10.30</td>\n",
       "      <td>10.30</td>\n",
       "      <td>0.0</td>\n",
       "      <td>10.30</td>\n",
       "      <td>10.30</td>\n",
       "      <td>ZL4m1dXqNc</td>\n",
       "    </tr>\n",
       "    <tr>\n",
       "      <th>4</th>\n",
       "      <td>2024-04-04</td>\n",
       "      <td>180.20</td>\n",
       "      <td>184.43</td>\n",
       "      <td>179.75</td>\n",
       "      <td>181.57</td>\n",
       "      <td>945184.0</td>\n",
       "      <td>181.57</td>\n",
       "      <td>181.57</td>\n",
       "      <td>31cWpkAP9J</td>\n",
       "    </tr>\n",
       "  </tbody>\n",
       "</table>\n",
       "</div>"
      ],
      "text/plain": [
       "        date    open    high     low   close    volume  closeadj  closeunadj  \\\n",
       "0 2024-01-30   18.80   18.87   18.67   18.77   44712.0     18.77       18.77   \n",
       "1 2024-04-04   20.02   20.22   20.02   20.22   17117.0     20.22       20.22   \n",
       "2 2024-04-04   10.24   10.24   10.24   10.24     973.0     10.24       10.24   \n",
       "3 2024-04-03   10.30   10.30   10.30   10.30       0.0     10.30       10.30   \n",
       "4 2024-04-04  180.20  184.43  179.75  181.57  945184.0    181.57      181.57   \n",
       "\n",
       "       ticker  \n",
       "0  EkEuXFUQrK  \n",
       "1  EkEuXFUQrK  \n",
       "2  ZL4m1dXqNc  \n",
       "3  ZL4m1dXqNc  \n",
       "4  31cWpkAP9J  "
      ]
     },
     "execution_count": 3,
     "metadata": {},
     "output_type": "execute_result"
    }
   ],
   "source": [
    "# View the top 5 rows on train\n",
    "train.head()"
   ]
  },
  {
   "cell_type": "code",
   "execution_count": 4,
   "id": "e06d89bd",
   "metadata": {},
   "outputs": [
    {
     "data": {
      "application/vnd.microsoft.datawrangler.viewer.v0+json": {
       "columns": [
        {
         "name": "index",
         "rawType": "int64",
         "type": "integer"
        },
        {
         "name": "date",
         "rawType": "datetime64[ns]",
         "type": "datetime"
        },
        {
         "name": "open",
         "rawType": "float64",
         "type": "float"
        },
        {
         "name": "high",
         "rawType": "float64",
         "type": "float"
        },
        {
         "name": "low",
         "rawType": "float64",
         "type": "float"
        },
        {
         "name": "close",
         "rawType": "float64",
         "type": "float"
        },
        {
         "name": "volume",
         "rawType": "float64",
         "type": "float"
        },
        {
         "name": "closeadj",
         "rawType": "float64",
         "type": "float"
        },
        {
         "name": "closeunadj",
         "rawType": "float64",
         "type": "float"
        },
        {
         "name": "ticker",
         "rawType": "object",
         "type": "string"
        }
       ],
       "ref": "59c45203-3ba4-4f59-9155-0dc699335383",
       "rows": [
        [
         "0",
         "2024-07-05 00:00:00",
         "10.7",
         "10.7",
         "10.7",
         "10.7",
         "0.0",
         "10.7",
         "10.7",
         "Ge5UaJiX8z"
        ],
        [
         "1",
         "2024-07-08 00:00:00",
         "20.2",
         "20.35",
         "20.1",
         "20.25",
         "12885.0",
         "20.25",
         "20.25",
         "EkEuXFUQrK"
        ],
        [
         "2",
         "2024-07-08 00:00:00",
         "10.37",
         "10.37",
         "10.37",
         "10.37",
         "1709.0",
         "10.37",
         "10.37",
         "ZL4m1dXqNc"
        ],
        [
         "3",
         "2024-07-05 00:00:00",
         "10.36",
         "10.36",
         "10.36",
         "10.36",
         "0.0",
         "10.36",
         "10.36",
         "ZL4m1dXqNc"
        ],
        [
         "4",
         "2024-07-08 00:00:00",
         "0.033",
         "0.04",
         "0.027",
         "0.027",
         "32062.0",
         "0.027",
         "0.027",
         "yvwY3aznZx"
        ]
       ],
       "shape": {
        "columns": 9,
        "rows": 5
       }
      },
      "text/html": [
       "<div>\n",
       "<style scoped>\n",
       "    .dataframe tbody tr th:only-of-type {\n",
       "        vertical-align: middle;\n",
       "    }\n",
       "\n",
       "    .dataframe tbody tr th {\n",
       "        vertical-align: top;\n",
       "    }\n",
       "\n",
       "    .dataframe thead th {\n",
       "        text-align: right;\n",
       "    }\n",
       "</style>\n",
       "<table border=\"1\" class=\"dataframe\">\n",
       "  <thead>\n",
       "    <tr style=\"text-align: right;\">\n",
       "      <th></th>\n",
       "      <th>date</th>\n",
       "      <th>open</th>\n",
       "      <th>high</th>\n",
       "      <th>low</th>\n",
       "      <th>close</th>\n",
       "      <th>volume</th>\n",
       "      <th>closeadj</th>\n",
       "      <th>closeunadj</th>\n",
       "      <th>ticker</th>\n",
       "    </tr>\n",
       "  </thead>\n",
       "  <tbody>\n",
       "    <tr>\n",
       "      <th>0</th>\n",
       "      <td>2024-07-05</td>\n",
       "      <td>10.700</td>\n",
       "      <td>10.70</td>\n",
       "      <td>10.700</td>\n",
       "      <td>10.700</td>\n",
       "      <td>0.0</td>\n",
       "      <td>10.700</td>\n",
       "      <td>10.700</td>\n",
       "      <td>Ge5UaJiX8z</td>\n",
       "    </tr>\n",
       "    <tr>\n",
       "      <th>1</th>\n",
       "      <td>2024-07-08</td>\n",
       "      <td>20.200</td>\n",
       "      <td>20.35</td>\n",
       "      <td>20.100</td>\n",
       "      <td>20.250</td>\n",
       "      <td>12885.0</td>\n",
       "      <td>20.250</td>\n",
       "      <td>20.250</td>\n",
       "      <td>EkEuXFUQrK</td>\n",
       "    </tr>\n",
       "    <tr>\n",
       "      <th>2</th>\n",
       "      <td>2024-07-08</td>\n",
       "      <td>10.370</td>\n",
       "      <td>10.37</td>\n",
       "      <td>10.370</td>\n",
       "      <td>10.370</td>\n",
       "      <td>1709.0</td>\n",
       "      <td>10.370</td>\n",
       "      <td>10.370</td>\n",
       "      <td>ZL4m1dXqNc</td>\n",
       "    </tr>\n",
       "    <tr>\n",
       "      <th>3</th>\n",
       "      <td>2024-07-05</td>\n",
       "      <td>10.360</td>\n",
       "      <td>10.36</td>\n",
       "      <td>10.360</td>\n",
       "      <td>10.360</td>\n",
       "      <td>0.0</td>\n",
       "      <td>10.360</td>\n",
       "      <td>10.360</td>\n",
       "      <td>ZL4m1dXqNc</td>\n",
       "    </tr>\n",
       "    <tr>\n",
       "      <th>4</th>\n",
       "      <td>2024-07-08</td>\n",
       "      <td>0.033</td>\n",
       "      <td>0.04</td>\n",
       "      <td>0.027</td>\n",
       "      <td>0.027</td>\n",
       "      <td>32062.0</td>\n",
       "      <td>0.027</td>\n",
       "      <td>0.027</td>\n",
       "      <td>yvwY3aznZx</td>\n",
       "    </tr>\n",
       "  </tbody>\n",
       "</table>\n",
       "</div>"
      ],
      "text/plain": [
       "        date    open   high     low   close   volume  closeadj  closeunadj  \\\n",
       "0 2024-07-05  10.700  10.70  10.700  10.700      0.0    10.700      10.700   \n",
       "1 2024-07-08  20.200  20.35  20.100  20.250  12885.0    20.250      20.250   \n",
       "2 2024-07-08  10.370  10.37  10.370  10.370   1709.0    10.370      10.370   \n",
       "3 2024-07-05  10.360  10.36  10.360  10.360      0.0    10.360      10.360   \n",
       "4 2024-07-08   0.033   0.04   0.027   0.027  32062.0     0.027       0.027   \n",
       "\n",
       "       ticker  \n",
       "0  Ge5UaJiX8z  \n",
       "1  EkEuXFUQrK  \n",
       "2  ZL4m1dXqNc  \n",
       "3  ZL4m1dXqNc  \n",
       "4  yvwY3aznZx  "
      ]
     },
     "execution_count": 4,
     "metadata": {},
     "output_type": "execute_result"
    }
   ],
   "source": [
    "# View the top 5 rows on test\n",
    "test.head()"
   ]
  },
  {
   "cell_type": "markdown",
   "id": "a02bafea",
   "metadata": {},
   "source": [
    "# 3. Data Cleaning and Grouping method (Kmeans)\n",
    "This Section:\n",
    "1. Cleans and prepares the data for time‑series analysis.\n",
    "2. Proposes a **grouping method** for tickers via KMeans using mean price, volatility and mean volume.\n",
    "3. Applies grouping method to the test dataset \n",
    "4. Selection of a grouping for further processes"
   ]
  },
  {
   "cell_type": "code",
   "execution_count": 5,
   "id": "ffe7e87a",
   "metadata": {},
   "outputs": [
    {
     "data": {
      "application/vnd.microsoft.datawrangler.viewer.v0+json": {
       "columns": [
        {
         "name": "index",
         "rawType": "object",
         "type": "string"
        },
        {
         "name": "train",
         "rawType": "int64",
         "type": "integer"
        },
        {
         "name": "test",
         "rawType": "int64",
         "type": "integer"
        }
       ],
       "ref": "8e58fa15-14ce-4c20-af5a-890df2811da2",
       "rows": [
        [
         "date",
         "0",
         "0"
        ],
        [
         "open",
         "0",
         "0"
        ],
        [
         "high",
         "0",
         "0"
        ],
        [
         "low",
         "0",
         "0"
        ],
        [
         "close",
         "0",
         "0"
        ],
        [
         "volume",
         "0",
         "0"
        ],
        [
         "closeadj",
         "0",
         "0"
        ],
        [
         "closeunadj",
         "0",
         "0"
        ],
        [
         "ticker",
         "0",
         "0"
        ]
       ],
       "shape": {
        "columns": 2,
        "rows": 9
       }
      },
      "text/html": [
       "<div>\n",
       "<style scoped>\n",
       "    .dataframe tbody tr th:only-of-type {\n",
       "        vertical-align: middle;\n",
       "    }\n",
       "\n",
       "    .dataframe tbody tr th {\n",
       "        vertical-align: top;\n",
       "    }\n",
       "\n",
       "    .dataframe thead th {\n",
       "        text-align: right;\n",
       "    }\n",
       "</style>\n",
       "<table border=\"1\" class=\"dataframe\">\n",
       "  <thead>\n",
       "    <tr style=\"text-align: right;\">\n",
       "      <th></th>\n",
       "      <th>train</th>\n",
       "      <th>test</th>\n",
       "    </tr>\n",
       "  </thead>\n",
       "  <tbody>\n",
       "    <tr>\n",
       "      <th>date</th>\n",
       "      <td>0</td>\n",
       "      <td>0</td>\n",
       "    </tr>\n",
       "    <tr>\n",
       "      <th>open</th>\n",
       "      <td>0</td>\n",
       "      <td>0</td>\n",
       "    </tr>\n",
       "    <tr>\n",
       "      <th>high</th>\n",
       "      <td>0</td>\n",
       "      <td>0</td>\n",
       "    </tr>\n",
       "    <tr>\n",
       "      <th>low</th>\n",
       "      <td>0</td>\n",
       "      <td>0</td>\n",
       "    </tr>\n",
       "    <tr>\n",
       "      <th>close</th>\n",
       "      <td>0</td>\n",
       "      <td>0</td>\n",
       "    </tr>\n",
       "    <tr>\n",
       "      <th>volume</th>\n",
       "      <td>0</td>\n",
       "      <td>0</td>\n",
       "    </tr>\n",
       "    <tr>\n",
       "      <th>closeadj</th>\n",
       "      <td>0</td>\n",
       "      <td>0</td>\n",
       "    </tr>\n",
       "    <tr>\n",
       "      <th>closeunadj</th>\n",
       "      <td>0</td>\n",
       "      <td>0</td>\n",
       "    </tr>\n",
       "    <tr>\n",
       "      <th>ticker</th>\n",
       "      <td>0</td>\n",
       "      <td>0</td>\n",
       "    </tr>\n",
       "  </tbody>\n",
       "</table>\n",
       "</div>"
      ],
      "text/plain": [
       "            train  test\n",
       "date            0     0\n",
       "open            0     0\n",
       "high            0     0\n",
       "low             0     0\n",
       "close           0     0\n",
       "volume          0     0\n",
       "closeadj        0     0\n",
       "closeunadj      0     0\n",
       "ticker          0     0"
      ]
     },
     "execution_count": 5,
     "metadata": {},
     "output_type": "execute_result"
    }
   ],
   "source": [
    "# Check for NaN\n",
    "na_summary = pd.concat([train.isna().sum().rename('train'), test.isna().sum().rename('test')], axis=1)\n",
    "na_summary"
   ]
  },
  {
   "cell_type": "code",
   "execution_count": 6,
   "id": "262e7b02",
   "metadata": {},
   "outputs": [
    {
     "data": {
      "application/vnd.microsoft.datawrangler.viewer.v0+json": {
       "columns": [
        {
         "name": "cluster",
         "rawType": "int32",
         "type": "integer"
        },
        {
         "name": "count",
         "rawType": "int64",
         "type": "integer"
        }
       ],
       "ref": "f923f12a-a42d-4452-837a-4bd7ce052a63",
       "rows": [
        [
         "9",
         "5710"
        ],
        [
         "0",
         "1088"
        ],
        [
         "5",
         "310"
        ],
        [
         "6",
         "89"
        ],
        [
         "3",
         "21"
        ],
        [
         "8",
         "16"
        ],
        [
         "4",
         "7"
        ],
        [
         "7",
         "2"
        ],
        [
         "1",
         "1"
        ],
        [
         "2",
         "1"
        ]
       ],
       "shape": {
        "columns": 1,
        "rows": 10
       }
      },
      "text/plain": [
       "cluster\n",
       "9    5710\n",
       "0    1088\n",
       "5     310\n",
       "6      89\n",
       "3      21\n",
       "8      16\n",
       "4       7\n",
       "7       2\n",
       "1       1\n",
       "2       1\n",
       "Name: count, dtype: int64"
      ]
     },
     "execution_count": 6,
     "metadata": {},
     "output_type": "execute_result"
    }
   ],
   "source": [
    "# Sorts the dataset to make sure that it all tickers are together, sorted by the date\n",
    "train = train.sort_values(['ticker', 'date']).reset_index(drop=True)\n",
    "test = test.sort_values(['ticker', 'date']).reset_index(drop=True)\n",
    "\n",
    "df_train = train.groupby('ticker').agg({'close': ['mean', 'std'], # mean price, volatility\n",
    "                                                    'volume': 'mean'})\n",
    "df_test = test.groupby('ticker').agg({'close': ['mean', 'std'], # mean price, volatility\n",
    "                                                  'volume': 'mean'})\n",
    "df_train.columns = ['_'.join(col) for col in df_train.columns]\n",
    "df_test.columns = ['_'.join(col) for col in df_test.columns]\n",
    "df_train.dropna(inplace=True)\n",
    "df_test.dropna(inplace=True)\n",
    "\n",
    "scaler = StandardScaler()\n",
    "X_train_scaled = scaler.fit_transform(df_train)\n",
    "X_test_scaled = scaler.transform(df_test)\n",
    "\n",
    "k = 10\n",
    "kmeans = KMeans(n_clusters=k, random_state=42)\n",
    "df_train['cluster'] = kmeans.fit_predict(X_train_scaled)\n",
    "df_test['cluster'] = kmeans.predict(X_test_scaled)\n",
    "df_train['cluster'].value_counts()"
   ]
  },
  {
   "cell_type": "code",
   "execution_count": 7,
   "id": "e3ab02b1",
   "metadata": {},
   "outputs": [],
   "source": [
    "# Cluster 0 used as main subgroup\n",
    "tickers_in_cluster_0 = list(df_train[df_train['cluster'] == 0].index)\n",
    "df_train = train[train['ticker'].isin(tickers_in_cluster_0)]\n",
    "df_test = test[test['ticker'].isin(tickers_in_cluster_0)]"
   ]
  },
  {
   "cell_type": "code",
   "execution_count": 8,
   "id": "1fdabd9e",
   "metadata": {},
   "outputs": [
    {
     "data": {
      "image/png": "[encoded data removed]",
      "text/plain": [
       "<Figure size 1200x500 with 1 Axes>"
      ]
     },
     "metadata": {},
     "output_type": "display_data"
    },
    {
     "data": {
      "image/png": "[encoded data removed]",
      "text/plain": [
       "<Figure size 1200x400 with 1 Axes>"
      ]
     },
     "metadata": {},
     "output_type": "display_data"
    }
   ],
   "source": [
    "# Plot example ticker\n",
    "example = df_train[df_train['ticker'] == df_train['ticker'].unique()[0]]\n",
    "\n",
    "plt.figure(figsize=(12,5))\n",
    "plt.plot(example['date'], example['close'])\n",
    "plt.title(f\"Close price for {example['ticker'].iloc[0]}\")\n",
    "plt.show()\n",
    "\n",
    "# Volatility example\n",
    "returns = example['close'].pct_change()\n",
    "returns.plot(figsize=(12,4), title=f\"Daily returns {example['ticker'].iloc[0]}\")\n",
    "plt.show()"
   ]
  },
  {
   "cell_type": "markdown",
   "id": "67420c78",
   "metadata": {},
   "source": [
    "# 4. Feature Engineering\n",
    "Returns:\n",
    "- Daily arithmetic return (pct_change)\n",
    "- Log return (log1p)\n",
    "\n",
    "Volume Weighted Average Price (VWAP):\n",
    "- Typical price = (high + low + close) / 3\n",
    "- Cumulative VWAP = weighted average of typical price by volume\n",
    "\n",
    "Moving Averages (trend indicators):\n",
    "- Simple MA with windows 5, 10, 20\n",
    "- Exponential MA (EMA12, EMA26)\n",
    "\n",
    "Volatility (risk proxy):\n",
    "- Rolling standard deviation of returns with windows 5, 10, 20\n",
    "\n",
    "Momentum:\n",
    "- Rate of change (ROC) of close over 5 and 10 days\n",
    "\n",
    "Relative Strength Index (RSI14):\n",
    "- Based on 14-day rolling avg gains vs losses\n",
    "\n",
    "Lagged Features (autoregressive signals):\n",
    "- Close and volume shifted by 1, 2, 3, 5, 10 days\n"
   ]
  },
  {
   "cell_type": "code",
   "execution_count": 9,
   "id": "463696e7",
   "metadata": {},
   "outputs": [],
   "source": [
    "def add_features(df_ticker):\n",
    "    df_ticker = df_ticker.copy()\n",
    "    \n",
    "    # Returns\n",
    "    df_ticker['return'] = df_ticker['close'].pct_change()\n",
    "    df_ticker['log_return'] = np.log1p(df_ticker['return'])\n",
    "    \n",
    "    # VWAP (Volume Weighted Average Price)\n",
    "    # Typical price = (high + low + close) / 3\n",
    "    df_ticker['typical_price'] = (df_ticker['high'] + df_ticker['low'] + df_ticker['close']) / 3\n",
    "    df_ticker['vwap'] = (df_ticker['typical_price'] * df_ticker['volume']).cumsum() / df_ticker['volume'].cumsum()\n",
    "    \n",
    "    # Moving Averages\n",
    "    df_ticker['ma5'] = df_ticker['close'].rolling(5).mean()\n",
    "    df_ticker['ma10'] = df_ticker['close'].rolling(10).mean()\n",
    "    df_ticker['ma20'] = df_ticker['close'].rolling(20).mean()\n",
    "    \n",
    "    # Exponential Moving Average (EMA)\n",
    "    df_ticker['ema12'] = df_ticker['close'].ewm(span=12, adjust=False).mean()\n",
    "    df_ticker['ema26'] = df_ticker['close'].ewm(span=26, adjust=False).mean()\n",
    "    \n",
    "    # Rolling Volatility\n",
    "    df_ticker['volatility_5'] = df_ticker['return'].rolling(5).std()\n",
    "    df_ticker['volatility_10'] = df_ticker['return'].rolling(10).std()\n",
    "    df_ticker['volatility_20'] = df_ticker['return'].rolling(20).std()\n",
    "    \n",
    "    # Momentum\n",
    "    df_ticker['roc_5'] = df_ticker['close'].pct_change(5)\n",
    "    df_ticker['roc_10'] = df_ticker['close'].pct_change(10)\n",
    "    \n",
    "    # Relative Strength Index (RSI)\n",
    "    delta = df_ticker['close'].diff()\n",
    "    gain = np.where(delta > 0, delta, 0)\n",
    "    loss = np.where(delta < 0, -delta, 0)\n",
    "    roll_up = pd.Series(gain).rolling(14).mean()\n",
    "    roll_down = pd.Series(loss).rolling(14).mean()\n",
    "    rs = roll_up / roll_down\n",
    "    df_ticker['rsi14'] = 100.0 - (100.0 / (1.0 + rs))\n",
    "    \n",
    "    # Lag features\n",
    "    for lag in [1, 2, 3, 5, 10]:\n",
    "        df_ticker[f'close_lag{lag}'] = df_ticker['close'].shift(lag)\n",
    "        df_ticker[f'volume_lag{lag}'] = df_ticker['volume'].shift(lag)\n",
    "    \n",
    "    return df_ticker\n",
    "\n",
    "# Adding the same features to both train and test\n",
    "df_features_train = df_train.groupby('ticker', group_keys=False).apply(add_features)\n",
    "df_features_test = df_test.groupby('ticker', group_keys=False).apply(add_features)"
   ]
  },
  {
   "cell_type": "code",
   "execution_count": 10,
   "id": "1ce36883",
   "metadata": {},
   "outputs": [
    {
     "data": {
      "application/vnd.microsoft.datawrangler.viewer.v0+json": {
       "columns": [
        {
         "name": "index",
         "rawType": "int64",
         "type": "integer"
        },
        {
         "name": "date",
         "rawType": "datetime64[ns]",
         "type": "datetime"
        },
        {
         "name": "open",
         "rawType": "float64",
         "type": "float"
        },
        {
         "name": "high",
         "rawType": "float64",
         "type": "float"
        },
        {
         "name": "low",
         "rawType": "float64",
         "type": "float"
        },
        {
         "name": "close",
         "rawType": "float64",
         "type": "float"
        },
        {
         "name": "volume",
         "rawType": "float64",
         "type": "float"
        },
        {
         "name": "closeadj",
         "rawType": "float64",
         "type": "float"
        },
        {
         "name": "closeunadj",
         "rawType": "float64",
         "type": "float"
        },
        {
         "name": "ticker",
         "rawType": "object",
         "type": "string"
        },
        {
         "name": "return",
         "rawType": "float64",
         "type": "float"
        },
        {
         "name": "log_return",
         "rawType": "float64",
         "type": "float"
        },
        {
         "name": "typical_price",
         "rawType": "float64",
         "type": "float"
        },
        {
         "name": "vwap",
         "rawType": "float64",
         "type": "float"
        },
        {
         "name": "ma5",
         "rawType": "float64",
         "type": "float"
        },
        {
         "name": "ma10",
         "rawType": "float64",
         "type": "float"
        },
        {
         "name": "ma20",
         "rawType": "float64",
         "type": "float"
        },
        {
         "name": "ema12",
         "rawType": "float64",
         "type": "float"
        },
        {
         "name": "ema26",
         "rawType": "float64",
         "type": "float"
        },
        {
         "name": "volatility_5",
         "rawType": "float64",
         "type": "float"
        },
        {
         "name": "volatility_10",
         "rawType": "float64",
         "type": "float"
        },
        {
         "name": "volatility_20",
         "rawType": "float64",
         "type": "float"
        },
        {
         "name": "roc_5",
         "rawType": "float64",
         "type": "float"
        },
        {
         "name": "roc_10",
         "rawType": "float64",
         "type": "float"
        },
        {
         "name": "rsi14",
         "rawType": "float64",
         "type": "float"
        },
        {
         "name": "close_lag1",
         "rawType": "float64",
         "type": "float"
        },
        {
         "name": "volume_lag1",
         "rawType": "float64",
         "type": "float"
        },
        {
         "name": "close_lag2",
         "rawType": "float64",
         "type": "float"
        },
        {
         "name": "volume_lag2",
         "rawType": "float64",
         "type": "float"
        },
        {
         "name": "close_lag3",
         "rawType": "float64",
         "type": "float"
        },
        {
         "name": "volume_lag3",
         "rawType": "float64",
         "type": "float"
        },
        {
         "name": "close_lag5",
         "rawType": "float64",
         "type": "float"
        },
        {
         "name": "volume_lag5",
         "rawType": "float64",
         "type": "float"
        },
        {
         "name": "close_lag10",
         "rawType": "float64",
         "type": "float"
        },
        {
         "name": "volume_lag10",
         "rawType": "float64",
         "type": "float"
        }
       ],
       "ref": "67e0530f-7fdd-4a76-b89b-e6494d5fe3c3",
       "rows": [
        [
         "496",
         "2024-01-02 00:00:00",
         "6.41",
         "7.05",
         "6.052",
         "6.37",
         "1671524.0",
         "6.37",
         "6.37",
         "02CJDrjOPG",
         null,
         null,
         "6.490666666666667",
         "6.490666666666668",
         null,
         null,
         null,
         "6.37",
         "6.37",
         null,
         null,
         null,
         null,
         null,
         null,
         null,
         null,
         null,
         null,
         null,
         null,
         null,
         null,
         null,
         null
        ],
        [
         "497",
         "2024-01-03 00:00:00",
         "6.22",
         "6.24",
         "5.372",
         "5.59",
         "2010267.0",
         "5.59",
         "5.59",
         "02CJDrjOPG",
         "-0.12244897959183676",
         "-0.13062018241706422",
         "5.733999999999999",
         "6.077524793594566",
         null,
         null,
         null,
         "6.25",
         "6.312222222222222",
         null,
         null,
         null,
         null,
         null,
         null,
         "6.37",
         "1671524.0",
         null,
         null,
         null,
         null,
         null,
         null,
         null,
         null
        ],
        [
         "498",
         "2024-01-04 00:00:00",
         "5.63",
         "6.28",
         "5.5",
         "6.005",
         "1189989.0",
         "6.005",
         "6.005",
         "02CJDrjOPG",
         "0.0742397137745976",
         "0.07161316836493917",
         "5.928333333333334",
         "6.041083041995602",
         null,
         null,
         null,
         "6.212307692307692",
         "6.289465020576132",
         null,
         null,
         null,
         null,
         null,
         null,
         "5.59",
         "2010267.0",
         "6.37",
         "1671524.0",
         null,
         null,
         null,
         null,
         null,
         null
        ],
        [
         "499",
         "2024-01-05 00:00:00",
         "5.95",
         "6.16",
         "5.53",
         "6.06",
         "1256734.0",
         "6.06",
         "6.06",
         "02CJDrjOPG",
         "0.00915903413821817",
         "0.009117344549276239",
         "5.916666666666667",
         "6.015569795385961",
         null,
         null,
         null,
         "6.1888757396449705",
         "6.272467611644567",
         null,
         null,
         null,
         null,
         null,
         null,
         "6.005",
         "1189989.0",
         "5.59",
         "2010267.0",
         "6.37",
         "1671524.0",
         null,
         null,
         null,
         null
        ],
        [
         "500",
         "2024-01-08 00:00:00",
         "5.99",
         "11.23",
         "5.9",
         "10.73",
         "45918740.0",
         "10.73",
         "10.73",
         "02CJDrjOPG",
         "0.7706270627062708",
         "0.5713337565613841",
         "9.286666666666667",
         "8.901498162464696",
         "6.950999999999999",
         null,
         null,
         "6.887510241238052",
         "6.602655195967191",
         null,
         null,
         null,
         null,
         null,
         null,
         "6.06",
         "1256734.0",
         "6.005",
         "1189989.0",
         "5.59",
         "2010267.0",
         null,
         null,
         null,
         null
        ]
       ],
       "shape": {
        "columns": 34,
        "rows": 5
       }
      },
      "text/html": [
       "<div>\n",
       "<style scoped>\n",
       "    .dataframe tbody tr th:only-of-type {\n",
       "        vertical-align: middle;\n",
       "    }\n",
       "\n",
       "    .dataframe tbody tr th {\n",
       "        vertical-align: top;\n",
       "    }\n",
       "\n",
       "    .dataframe thead th {\n",
       "        text-align: right;\n",
       "    }\n",
       "</style>\n",
       "<table border=\"1\" class=\"dataframe\">\n",
       "  <thead>\n",
       "    <tr style=\"text-align: right;\">\n",
       "      <th></th>\n",
       "      <th>date</th>\n",
       "      <th>open</th>\n",
       "      <th>high</th>\n",
       "      <th>low</th>\n",
       "      <th>close</th>\n",
       "      <th>volume</th>\n",
       "      <th>closeadj</th>\n",
       "      <th>closeunadj</th>\n",
       "      <th>ticker</th>\n",
       "      <th>return</th>\n",
       "      <th>...</th>\n",
       "      <th>close_lag1</th>\n",
       "      <th>volume_lag1</th>\n",
       "      <th>close_lag2</th>\n",
       "      <th>volume_lag2</th>\n",
       "      <th>close_lag3</th>\n",
       "      <th>volume_lag3</th>\n",
       "      <th>close_lag5</th>\n",
       "      <th>volume_lag5</th>\n",
       "      <th>close_lag10</th>\n",
       "      <th>volume_lag10</th>\n",
       "    </tr>\n",
       "  </thead>\n",
       "  <tbody>\n",
       "    <tr>\n",
       "      <th>496</th>\n",
       "      <td>2024-01-02</td>\n",
       "      <td>6.41</td>\n",
       "      <td>7.05</td>\n",
       "      <td>6.052</td>\n",
       "      <td>6.370</td>\n",
       "      <td>1671524.0</td>\n",
       "      <td>6.370</td>\n",
       "      <td>6.370</td>\n",
       "      <td>02CJDrjOPG</td>\n",
       "      <td>NaN</td>\n",
       "      <td>...</td>\n",
       "      <td>NaN</td>\n",
       "      <td>NaN</td>\n",
       "      <td>NaN</td>\n",
       "      <td>NaN</td>\n",
       "      <td>NaN</td>\n",
       "      <td>NaN</td>\n",
       "      <td>NaN</td>\n",
       "      <td>NaN</td>\n",
       "      <td>NaN</td>\n",
       "      <td>NaN</td>\n",
       "    </tr>\n",
       "    <tr>\n",
       "      <th>497</th>\n",
       "      <td>2024-01-03</td>\n",
       "      <td>6.22</td>\n",
       "      <td>6.24</td>\n",
       "      <td>5.372</td>\n",
       "      <td>5.590</td>\n",
       "      <td>2010267.0</td>\n",
       "      <td>5.590</td>\n",
       "      <td>5.590</td>\n",
       "      <td>02CJDrjOPG</td>\n",
       "      <td>-0.122449</td>\n",
       "      <td>...</td>\n",
       "      <td>6.370</td>\n",
       "      <td>1671524.0</td>\n",
       "      <td>NaN</td>\n",
       "      <td>NaN</td>\n",
       "      <td>NaN</td>\n",
       "      <td>NaN</td>\n",
       "      <td>NaN</td>\n",
       "      <td>NaN</td>\n",
       "      <td>NaN</td>\n",
       "      <td>NaN</td>\n",
       "    </tr>\n",
       "    <tr>\n",
       "      <th>498</th>\n",
       "      <td>2024-01-04</td>\n",
       "      <td>5.63</td>\n",
       "      <td>6.28</td>\n",
       "      <td>5.500</td>\n",
       "      <td>6.005</td>\n",
       "      <td>1189989.0</td>\n",
       "      <td>6.005</td>\n",
       "      <td>6.005</td>\n",
       "      <td>02CJDrjOPG</td>\n",
       "      <td>0.074240</td>\n",
       "      <td>...</td>\n",
       "      <td>5.590</td>\n",
       "      <td>2010267.0</td>\n",
       "      <td>6.370</td>\n",
       "      <td>1671524.0</td>\n",
       "      <td>NaN</td>\n",
       "      <td>NaN</td>\n",
       "      <td>NaN</td>\n",
       "      <td>NaN</td>\n",
       "      <td>NaN</td>\n",
       "      <td>NaN</td>\n",
       "    </tr>\n",
       "    <tr>\n",
       "      <th>499</th>\n",
       "      <td>2024-01-05</td>\n",
       "      <td>5.95</td>\n",
       "      <td>6.16</td>\n",
       "      <td>5.530</td>\n",
       "      <td>6.060</td>\n",
       "      <td>1256734.0</td>\n",
       "      <td>6.060</td>\n",
       "      <td>6.060</td>\n",
       "      <td>02CJDrjOPG</td>\n",
       "      <td>0.009159</td>\n",
       "      <td>...</td>\n",
       "      <td>6.005</td>\n",
       "      <td>1189989.0</td>\n",
       "      <td>5.590</td>\n",
       "      <td>2010267.0</td>\n",
       "      <td>6.37</td>\n",
       "      <td>1671524.0</td>\n",
       "      <td>NaN</td>\n",
       "      <td>NaN</td>\n",
       "      <td>NaN</td>\n",
       "      <td>NaN</td>\n",
       "    </tr>\n",
       "    <tr>\n",
       "      <th>500</th>\n",
       "      <td>2024-01-08</td>\n",
       "      <td>5.99</td>\n",
       "      <td>11.23</td>\n",
       "      <td>5.900</td>\n",
       "      <td>10.730</td>\n",
       "      <td>45918740.0</td>\n",
       "      <td>10.730</td>\n",
       "      <td>10.730</td>\n",
       "      <td>02CJDrjOPG</td>\n",
       "      <td>0.770627</td>\n",
       "      <td>...</td>\n",
       "      <td>6.060</td>\n",
       "      <td>1256734.0</td>\n",
       "      <td>6.005</td>\n",
       "      <td>1189989.0</td>\n",
       "      <td>5.59</td>\n",
       "      <td>2010267.0</td>\n",
       "      <td>NaN</td>\n",
       "      <td>NaN</td>\n",
       "      <td>NaN</td>\n",
       "      <td>NaN</td>\n",
       "    </tr>\n",
       "  </tbody>\n",
       "</table>\n",
       "<p>5 rows × 34 columns</p>\n",
       "</div>"
      ],
      "text/plain": [
       "          date  open   high    low   close      volume  closeadj  closeunadj  \\\n",
       "496 2024-01-02  6.41   7.05  6.052   6.370   1671524.0     6.370       6.370   \n",
       "497 2024-01-03  6.22   6.24  5.372   5.590   2010267.0     5.590       5.590   \n",
       "498 2024-01-04  5.63   6.28  5.500   6.005   1189989.0     6.005       6.005   \n",
       "499 2024-01-05  5.95   6.16  5.530   6.060   1256734.0     6.060       6.060   \n",
       "500 2024-01-08  5.99  11.23  5.900  10.730  45918740.0    10.730      10.730   \n",
       "\n",
       "         ticker    return  ...  close_lag1  volume_lag1  close_lag2  \\\n",
       "496  02CJDrjOPG       NaN  ...         NaN          NaN         NaN   \n",
       "497  02CJDrjOPG -0.122449  ...       6.370    1671524.0         NaN   \n",
       "498  02CJDrjOPG  0.074240  ...       5.590    2010267.0       6.370   \n",
       "499  02CJDrjOPG  0.009159  ...       6.005    1189989.0       5.590   \n",
       "500  02CJDrjOPG  0.770627  ...       6.060    1256734.0       6.005   \n",
       "\n",
       "     volume_lag2  close_lag3  volume_lag3  close_lag5  volume_lag5  \\\n",
       "496          NaN         NaN          NaN         NaN          NaN   \n",
       "497          NaN         NaN          NaN         NaN          NaN   \n",
       "498    1671524.0         NaN          NaN         NaN          NaN   \n",
       "499    2010267.0        6.37    1671524.0         NaN          NaN   \n",
       "500    1189989.0        5.59    2010267.0         NaN          NaN   \n",
       "\n",
       "     close_lag10  volume_lag10  \n",
       "496          NaN           NaN  \n",
       "497          NaN           NaN  \n",
       "498          NaN           NaN  \n",
       "499          NaN           NaN  \n",
       "500          NaN           NaN  \n",
       "\n",
       "[5 rows x 34 columns]"
      ]
     },
     "execution_count": 10,
     "metadata": {},
     "output_type": "execute_result"
    }
   ],
   "source": [
    "# View the top 5 rows in train after feature engineering\n",
    "df_features_train.head()"
   ]
  },
  {
   "cell_type": "code",
   "execution_count": 11,
   "id": "47a19cbb",
   "metadata": {},
   "outputs": [
    {
     "data": {
      "application/vnd.microsoft.datawrangler.viewer.v0+json": {
       "columns": [
        {
         "name": "index",
         "rawType": "int64",
         "type": "integer"
        },
        {
         "name": "date",
         "rawType": "datetime64[ns]",
         "type": "datetime"
        },
        {
         "name": "open",
         "rawType": "float64",
         "type": "float"
        },
        {
         "name": "high",
         "rawType": "float64",
         "type": "float"
        },
        {
         "name": "low",
         "rawType": "float64",
         "type": "float"
        },
        {
         "name": "close",
         "rawType": "float64",
         "type": "float"
        },
        {
         "name": "volume",
         "rawType": "float64",
         "type": "float"
        },
        {
         "name": "closeadj",
         "rawType": "float64",
         "type": "float"
        },
        {
         "name": "closeunadj",
         "rawType": "float64",
         "type": "float"
        },
        {
         "name": "ticker",
         "rawType": "object",
         "type": "string"
        },
        {
         "name": "return",
         "rawType": "float64",
         "type": "float"
        },
        {
         "name": "log_return",
         "rawType": "float64",
         "type": "float"
        },
        {
         "name": "typical_price",
         "rawType": "float64",
         "type": "float"
        },
        {
         "name": "vwap",
         "rawType": "float64",
         "type": "float"
        },
        {
         "name": "ma5",
         "rawType": "float64",
         "type": "float"
        },
        {
         "name": "ma10",
         "rawType": "float64",
         "type": "float"
        },
        {
         "name": "ma20",
         "rawType": "float64",
         "type": "float"
        },
        {
         "name": "ema12",
         "rawType": "float64",
         "type": "float"
        },
        {
         "name": "ema26",
         "rawType": "float64",
         "type": "float"
        },
        {
         "name": "volatility_5",
         "rawType": "float64",
         "type": "float"
        },
        {
         "name": "volatility_10",
         "rawType": "float64",
         "type": "float"
        },
        {
         "name": "volatility_20",
         "rawType": "float64",
         "type": "float"
        },
        {
         "name": "roc_5",
         "rawType": "float64",
         "type": "float"
        },
        {
         "name": "roc_10",
         "rawType": "float64",
         "type": "float"
        },
        {
         "name": "rsi14",
         "rawType": "float64",
         "type": "float"
        },
        {
         "name": "close_lag1",
         "rawType": "float64",
         "type": "float"
        },
        {
         "name": "volume_lag1",
         "rawType": "float64",
         "type": "float"
        },
        {
         "name": "close_lag2",
         "rawType": "float64",
         "type": "float"
        },
        {
         "name": "volume_lag2",
         "rawType": "float64",
         "type": "float"
        },
        {
         "name": "close_lag3",
         "rawType": "float64",
         "type": "float"
        },
        {
         "name": "volume_lag3",
         "rawType": "float64",
         "type": "float"
        },
        {
         "name": "close_lag5",
         "rawType": "float64",
         "type": "float"
        },
        {
         "name": "volume_lag5",
         "rawType": "float64",
         "type": "float"
        },
        {
         "name": "close_lag10",
         "rawType": "float64",
         "type": "float"
        },
        {
         "name": "volume_lag10",
         "rawType": "float64",
         "type": "float"
        }
       ],
       "ref": "c9ae0a56-04fe-4a08-b152-5072d60a4c12",
       "rows": [
        [
         "80",
         "2024-07-02 00:00:00",
         "5.78",
         "5.89",
         "5.245",
         "5.26",
         "564327.0",
         "5.26",
         "5.26",
         "02CJDrjOPG",
         null,
         null,
         "5.465",
         "5.465",
         null,
         null,
         null,
         "5.26",
         "5.26",
         null,
         null,
         null,
         null,
         null,
         null,
         null,
         null,
         null,
         null,
         null,
         null,
         null,
         null,
         null,
         null
        ],
        [
         "81",
         "2024-07-03 00:00:00",
         "5.26",
         "5.587",
         "5.14",
         "5.355",
         "232396.0",
         "5.355",
         "5.355",
         "02CJDrjOPG",
         "0.018060836501901267",
         "0.01789967715009372",
         "5.360666666666667",
         "5.434567027268783",
         null,
         null,
         null,
         "5.274615384615385",
         "5.267037037037037",
         null,
         null,
         null,
         null,
         null,
         null,
         "5.26",
         "564327.0",
         null,
         null,
         null,
         null,
         null,
         null,
         null,
         null
        ],
        [
         "82",
         "2024-07-05 00:00:00",
         "5.33",
         "5.34",
         "5.115",
         "5.18",
         "361695.0",
         "5.18",
         "5.18",
         "02CJDrjOPG",
         "-0.03267973856209161",
         "-0.03322564762832051",
         "5.211666666666667",
         "5.364970434391271",
         null,
         null,
         null,
         "5.260059171597634",
         "5.260589849108367",
         null,
         null,
         null,
         null,
         null,
         null,
         "5.355",
         "232396.0",
         "5.26",
         "564327.0",
         null,
         null,
         null,
         null,
         null,
         null
        ],
        [
         "83",
         "2024-07-08 00:00:00",
         "5.27",
         "5.48",
         "5.16",
         "5.3",
         "565899.0",
         "5.3",
         "5.3",
         "02CJDrjOPG",
         "0.02316602316602312",
         "0.022901764286684414",
         "5.3133333333333335",
         "5.348023791835646",
         null,
         null,
         null,
         "5.2662039144287665",
         "5.263509119544784",
         null,
         null,
         null,
         null,
         null,
         null,
         "5.18",
         "361695.0",
         "5.355",
         "232396.0",
         "5.26",
         "564327.0",
         null,
         null,
         null,
         null
        ],
        [
         "84",
         "2024-07-09 00:00:00",
         "5.28",
         "5.73",
         "5.16",
         "5.72",
         "622595.0",
         "5.72",
         "5.72",
         "02CJDrjOPG",
         "0.0792452830188679",
         "0.07626198483363036",
         "5.536666666666666",
         "5.3980674707871446",
         "5.3629999999999995",
         null,
         null,
         "5.336018696824341",
         "5.297323258837763",
         null,
         null,
         null,
         null,
         null,
         null,
         "5.3",
         "565899.0",
         "5.18",
         "361695.0",
         "5.355",
         "232396.0",
         null,
         null,
         null,
         null
        ]
       ],
       "shape": {
        "columns": 34,
        "rows": 5
       }
      },
      "text/html": [
       "<div>\n",
       "<style scoped>\n",
       "    .dataframe tbody tr th:only-of-type {\n",
       "        vertical-align: middle;\n",
       "    }\n",
       "\n",
       "    .dataframe tbody tr th {\n",
       "        vertical-align: top;\n",
       "    }\n",
       "\n",
       "    .dataframe thead th {\n",
       "        text-align: right;\n",
       "    }\n",
       "</style>\n",
       "<table border=\"1\" class=\"dataframe\">\n",
       "  <thead>\n",
       "    <tr style=\"text-align: right;\">\n",
       "      <th></th>\n",
       "      <th>date</th>\n",
       "      <th>open</th>\n",
       "      <th>high</th>\n",
       "      <th>low</th>\n",
       "      <th>close</th>\n",
       "      <th>volume</th>\n",
       "      <th>closeadj</th>\n",
       "      <th>closeunadj</th>\n",
       "      <th>ticker</th>\n",
       "      <th>return</th>\n",
       "      <th>...</th>\n",
       "      <th>close_lag1</th>\n",
       "      <th>volume_lag1</th>\n",
       "      <th>close_lag2</th>\n",
       "      <th>volume_lag2</th>\n",
       "      <th>close_lag3</th>\n",
       "      <th>volume_lag3</th>\n",
       "      <th>close_lag5</th>\n",
       "      <th>volume_lag5</th>\n",
       "      <th>close_lag10</th>\n",
       "      <th>volume_lag10</th>\n",
       "    </tr>\n",
       "  </thead>\n",
       "  <tbody>\n",
       "    <tr>\n",
       "      <th>80</th>\n",
       "      <td>2024-07-02</td>\n",
       "      <td>5.78</td>\n",
       "      <td>5.890</td>\n",
       "      <td>5.245</td>\n",
       "      <td>5.260</td>\n",
       "      <td>564327.0</td>\n",
       "      <td>5.260</td>\n",
       "      <td>5.260</td>\n",
       "      <td>02CJDrjOPG</td>\n",
       "      <td>NaN</td>\n",
       "      <td>...</td>\n",
       "      <td>NaN</td>\n",
       "      <td>NaN</td>\n",
       "      <td>NaN</td>\n",
       "      <td>NaN</td>\n",
       "      <td>NaN</td>\n",
       "      <td>NaN</td>\n",
       "      <td>NaN</td>\n",
       "      <td>NaN</td>\n",
       "      <td>NaN</td>\n",
       "      <td>NaN</td>\n",
       "    </tr>\n",
       "    <tr>\n",
       "      <th>81</th>\n",
       "      <td>2024-07-03</td>\n",
       "      <td>5.26</td>\n",
       "      <td>5.587</td>\n",
       "      <td>5.140</td>\n",
       "      <td>5.355</td>\n",
       "      <td>232396.0</td>\n",
       "      <td>5.355</td>\n",
       "      <td>5.355</td>\n",
       "      <td>02CJDrjOPG</td>\n",
       "      <td>0.018061</td>\n",
       "      <td>...</td>\n",
       "      <td>5.260</td>\n",
       "      <td>564327.0</td>\n",
       "      <td>NaN</td>\n",
       "      <td>NaN</td>\n",
       "      <td>NaN</td>\n",
       "      <td>NaN</td>\n",
       "      <td>NaN</td>\n",
       "      <td>NaN</td>\n",
       "      <td>NaN</td>\n",
       "      <td>NaN</td>\n",
       "    </tr>\n",
       "    <tr>\n",
       "      <th>82</th>\n",
       "      <td>2024-07-05</td>\n",
       "      <td>5.33</td>\n",
       "      <td>5.340</td>\n",
       "      <td>5.115</td>\n",
       "      <td>5.180</td>\n",
       "      <td>361695.0</td>\n",
       "      <td>5.180</td>\n",
       "      <td>5.180</td>\n",
       "      <td>02CJDrjOPG</td>\n",
       "      <td>-0.032680</td>\n",
       "      <td>...</td>\n",
       "      <td>5.355</td>\n",
       "      <td>232396.0</td>\n",
       "      <td>5.260</td>\n",
       "      <td>564327.0</td>\n",
       "      <td>NaN</td>\n",
       "      <td>NaN</td>\n",
       "      <td>NaN</td>\n",
       "      <td>NaN</td>\n",
       "      <td>NaN</td>\n",
       "      <td>NaN</td>\n",
       "    </tr>\n",
       "    <tr>\n",
       "      <th>83</th>\n",
       "      <td>2024-07-08</td>\n",
       "      <td>5.27</td>\n",
       "      <td>5.480</td>\n",
       "      <td>5.160</td>\n",
       "      <td>5.300</td>\n",
       "      <td>565899.0</td>\n",
       "      <td>5.300</td>\n",
       "      <td>5.300</td>\n",
       "      <td>02CJDrjOPG</td>\n",
       "      <td>0.023166</td>\n",
       "      <td>...</td>\n",
       "      <td>5.180</td>\n",
       "      <td>361695.0</td>\n",
       "      <td>5.355</td>\n",
       "      <td>232396.0</td>\n",
       "      <td>5.260</td>\n",
       "      <td>564327.0</td>\n",
       "      <td>NaN</td>\n",
       "      <td>NaN</td>\n",
       "      <td>NaN</td>\n",
       "      <td>NaN</td>\n",
       "    </tr>\n",
       "    <tr>\n",
       "      <th>84</th>\n",
       "      <td>2024-07-09</td>\n",
       "      <td>5.28</td>\n",
       "      <td>5.730</td>\n",
       "      <td>5.160</td>\n",
       "      <td>5.720</td>\n",
       "      <td>622595.0</td>\n",
       "      <td>5.720</td>\n",
       "      <td>5.720</td>\n",
       "      <td>02CJDrjOPG</td>\n",
       "      <td>0.079245</td>\n",
       "      <td>...</td>\n",
       "      <td>5.300</td>\n",
       "      <td>565899.0</td>\n",
       "      <td>5.180</td>\n",
       "      <td>361695.0</td>\n",
       "      <td>5.355</td>\n",
       "      <td>232396.0</td>\n",
       "      <td>NaN</td>\n",
       "      <td>NaN</td>\n",
       "      <td>NaN</td>\n",
       "      <td>NaN</td>\n",
       "    </tr>\n",
       "  </tbody>\n",
       "</table>\n",
       "<p>5 rows × 34 columns</p>\n",
       "</div>"
      ],
      "text/plain": [
       "         date  open   high    low  close    volume  closeadj  closeunadj  \\\n",
       "80 2024-07-02  5.78  5.890  5.245  5.260  564327.0     5.260       5.260   \n",
       "81 2024-07-03  5.26  5.587  5.140  5.355  232396.0     5.355       5.355   \n",
       "82 2024-07-05  5.33  5.340  5.115  5.180  361695.0     5.180       5.180   \n",
       "83 2024-07-08  5.27  5.480  5.160  5.300  565899.0     5.300       5.300   \n",
       "84 2024-07-09  5.28  5.730  5.160  5.720  622595.0     5.720       5.720   \n",
       "\n",
       "        ticker    return  ...  close_lag1  volume_lag1  close_lag2  \\\n",
       "80  02CJDrjOPG       NaN  ...         NaN          NaN         NaN   \n",
       "81  02CJDrjOPG  0.018061  ...       5.260     564327.0         NaN   \n",
       "82  02CJDrjOPG -0.032680  ...       5.355     232396.0       5.260   \n",
       "83  02CJDrjOPG  0.023166  ...       5.180     361695.0       5.355   \n",
       "84  02CJDrjOPG  0.079245  ...       5.300     565899.0       5.180   \n",
       "\n",
       "    volume_lag2  close_lag3  volume_lag3  close_lag5  volume_lag5  \\\n",
       "80          NaN         NaN          NaN         NaN          NaN   \n",
       "81          NaN         NaN          NaN         NaN          NaN   \n",
       "82     564327.0         NaN          NaN         NaN          NaN   \n",
       "83     232396.0       5.260     564327.0         NaN          NaN   \n",
       "84     361695.0       5.355     232396.0         NaN          NaN   \n",
       "\n",
       "    close_lag10  volume_lag10  \n",
       "80          NaN           NaN  \n",
       "81          NaN           NaN  \n",
       "82          NaN           NaN  \n",
       "83          NaN           NaN  \n",
       "84          NaN           NaN  \n",
       "\n",
       "[5 rows x 34 columns]"
      ]
     },
     "execution_count": 11,
     "metadata": {},
     "output_type": "execute_result"
    }
   ],
   "source": [
    "# View the top 5 rows in test after feature engineering\n",
    "df_features_test.head()"
   ]
  },
  {
   "cell_type": "markdown",
   "id": "324ec418",
   "metadata": {},
   "source": [
    "# 5. Time-Series with LightGBM"
   ]
  },
  {
   "cell_type": "code",
   "execution_count": 12,
   "id": "f6b58c3d",
   "metadata": {},
   "outputs": [],
   "source": [
    "# Encode ticker\n",
    "df_features_train['ticker_id'] = df_features_train['ticker'].astype('category').cat.codes\n",
    "df_features_test['ticker_id']  = df_features_test['ticker'].astype('category').cat.codes\n",
    "\n",
    "# Features & target\n",
    "feature_cols = ['close_lag1','close_lag2','close_lag3','close_lag5','close_lag10',\n",
    "                'volume_lag1','volume_lag2','volume_lag3','ma5','ma10','ma20',\n",
    "                'ema12','ema26','volatility_5','volatility_10','volatility_20',\n",
    "                'roc_5','roc_10','rsi14','vwap','ticker_id']\n",
    "\n",
    "X_train, y_train = df_features_train[feature_cols], df_features_train['close']\n",
    "X_test, y_test   = df_features_test[feature_cols],  df_features_test['close']\n",
    "\n",
    "# Train LightGBM\n",
    "lgb_train = lgb.Dataset(X_train, label=y_train)\n",
    "lgb_train = lgb.Dataset(X_train, y_train, categorical_feature=['ticker_id'])\n",
    "\n",
    "params = {'objective': 'regression',\n",
    "          'metric': 'rmse',\n",
    "          'learning_rate': 0.03,\n",
    "          'num_leaves': 63,\n",
    "          'subsample': 0.8,\n",
    "          'colsample_bytree': 0.8,\n",
    "          'random_state': 42,\n",
    "          'n_jobs': -1, \n",
    "          'verbose': -1}\n",
    "\n",
    "model_lgb = lgb.train(params, lgb_train, num_boost_round=500)\n",
    "\n",
    "# Predictions\n",
    "preds_lgb_test = model_lgb.predict(X_test, num_iteration=model_lgb.best_iteration)\n",
    "df_features_test['lightGBM_pred'] = preds_lgb_test\n",
    "\n",
    "# Evaluation\n",
    "lgb_rmse = mean_squared_error(y_test, preds_lgb_test)\n",
    "lgb_mae  = mean_absolute_error(y_test, preds_lgb_test)\n",
    "\n",
    "with open(\"LightGBM.pkl\", \"wb\") as f:\n",
    "    pickle.dump(model_lgb, f)"
   ]
  },
  {
   "cell_type": "markdown",
   "id": "cab218ec",
   "metadata": {},
   "source": [
    "# 6. Time-Series with XGBoost"
   ]
  },
  {
   "cell_type": "code",
   "execution_count": 13,
   "id": "cfcd5236",
   "metadata": {},
   "outputs": [],
   "source": [
    "# Train XGBoost\n",
    "model_xgb = xgb.XGBRegressor(objective='reg:squarederror', \n",
    "                             learning_rate=0.03,\n",
    "                             n_estimators=500,\n",
    "                             max_depth=6, \n",
    "                             subsample=0.8,\n",
    "                             colsample_bytree=0.8,\n",
    "                             random_state=42,\n",
    "                             n_jobs=-1)\n",
    "\n",
    "model_xgb.fit(X_train, y_train)\n",
    "\n",
    "# Predictions\n",
    "preds_xgb_test = model_xgb.predict(X_test)\n",
    "df_features_test['XGB_pred'] = preds_xgb_test\n",
    "\n",
    "# Evaluation\n",
    "xgb_rmse = mean_squared_error(y_test, preds_xgb_test)\n",
    "xgb_mae  = mean_absolute_error(y_test, preds_xgb_test)\n",
    "\n",
    "with open(\"XGBoost.pkl\", \"wb\") as f:\n",
    "    pickle.dump(model_xgb, f)"
   ]
  },
  {
   "cell_type": "markdown",
   "id": "464382bc",
   "metadata": {},
   "source": [
    "# Comparison"
   ]
  },
  {
   "cell_type": "code",
   "execution_count": 14,
   "id": "628beaf0",
   "metadata": {},
   "outputs": [
    {
     "name": "stdout",
     "output_type": "stream",
     "text": [
      "LightGBM RMSE: 261.2634\n",
      "XGBoost RMSE: 151.7850\n",
      "\n",
      "LightGBM MAE: 1.9168\n",
      "XGBoost MAE: 1.5228\n"
     ]
    },
    {
     "data": {
      "application/vnd.microsoft.datawrangler.viewer.v0+json": {
       "columns": [
        {
         "name": "index",
         "rawType": "int64",
         "type": "integer"
        },
        {
         "name": "ticker",
         "rawType": "object",
         "type": "string"
        },
        {
         "name": "lgb_rmse",
         "rawType": "float64",
         "type": "float"
        },
        {
         "name": "xgb_rmse",
         "rawType": "float64",
         "type": "float"
        },
        {
         "name": "lgb_mae",
         "rawType": "float64",
         "type": "float"
        },
        {
         "name": "xgb_mae",
         "rawType": "float64",
         "type": "float"
        }
       ],
       "ref": "17cd42d2-cd9a-43f8-8004-44ee13a1f10b",
       "rows": [
        [
         "0",
         "02CJDrjOPG",
         "0.33691697379813956",
         "0.40210865045597416",
         "0.2635669578672472",
         "0.30140491676330555"
        ],
        [
         "1",
         "05gj77duN2",
         "1.1902344912596707",
         "1.2456111854656937",
         "0.8404305905646148",
         "0.8458339157104486"
        ],
        [
         "2",
         "08cAmXR8Dh",
         "0.18671013039858067",
         "0.17170998540494908",
         "0.13415294793943675",
         "0.13988338947296156"
        ],
        [
         "3",
         "09KIlY85uZ",
         "0.1785061201390334",
         "0.1696510505202546",
         "0.1432710723020819",
         "0.12417970037460324"
        ],
        [
         "4",
         "0Hw9RH7EtD",
         "0.15851415172427344",
         "0.3428319099695989",
         "0.12911159807196243",
         "0.161644492149353"
        ],
        [
         "5",
         "0MW1BbaWfI",
         "0.8836875531128866",
         "0.9235093180138981",
         "0.707386784873951",
         "0.7806030120849605"
        ],
        [
         "6",
         "0VwfduMulR",
         "0.20834724300885857",
         "0.16519110046706556",
         "0.07929966299830418",
         "0.060181813454627996"
        ],
        [
         "7",
         "0YoHcUG6Yl",
         "0.1058996323090439",
         "0.08023735337074511",
         "0.08163967972164884",
         "0.06313500308990479"
        ],
        [
         "8",
         "0aj2DdRSXi",
         "0.24487488954817632",
         "0.18267974598973186",
         "0.1814353538881281",
         "0.14319724845886225"
        ],
        [
         "9",
         "0bweYBhtS9",
         "0.3618736110781727",
         "0.3422912842238516",
         "0.28469945522578277",
         "0.290075656890869"
        ],
        [
         "10",
         "0pDqTFbMr6",
         "0.1692036720395319",
         "0.12964585461737288",
         "0.0859168279067723",
         "0.06840049686431886"
        ],
        [
         "11",
         "0w027berfL",
         "1.1885280024704168",
         "1.2581014307450615",
         "0.6438916333957053",
         "0.8162041244506831"
        ],
        [
         "12",
         "0yRqfdwccL",
         "0.8518799852689599",
         "1.0117619476243436",
         "0.7297685277112087",
         "0.8139506301879887"
        ],
        [
         "13",
         "0zexKgOvU6",
         "1.7461610393472171",
         "1.6826423829282315",
         "1.2994672873131072",
         "1.3202666015624984"
        ],
        [
         "14",
         "184wzxSQn1",
         "0.19151753356072143",
         "0.20699811252674027",
         "0.1583830506957039",
         "0.16502796602249142"
        ],
        [
         "15",
         "18vYzpOq65",
         "0.18741924170104798",
         "0.16498480369790358",
         "0.13642827834746685",
         "0.11958262538909907"
        ],
        [
         "16",
         "19cZhfNZTX",
         "0.14928706257240706",
         "0.12279041327091975",
         "0.10009680926680731",
         "0.090999648809433"
        ],
        [
         "17",
         "1B0mtMsN3p",
         "0.22826985909409375",
         "0.26899404234768626",
         "0.1838243577419198",
         "0.21625178146362306"
        ],
        [
         "18",
         "1DiiodGfO9",
         "2.2079645188892707",
         "2.1972161915468664",
         "1.8380910156406969",
         "1.7962394104003905"
        ],
        [
         "19",
         "1EOOURSK9O",
         "0.9383779570427523",
         "1.0965277943173886",
         "0.7790027199103079",
         "0.8940178451538084"
        ],
        [
         "20",
         "1HUrwIH4IG",
         "0.9685070561517757",
         "0.8556414605279795",
         "0.8102072504102893",
         "0.7133990631103501"
        ],
        [
         "21",
         "1N6TXVL4Ja",
         "1.3296731171120866",
         "1.2772053062881654",
         "1.1628790833290565",
         "1.0225265197753899"
        ],
        [
         "22",
         "1ZzZILWRQq",
         "0.4051392959743972",
         "0.4848614496031476",
         "0.2948568704178193",
         "0.38764318084716826"
        ],
        [
         "23",
         "1cdlJCZhjJ",
         "2.8781943881120373",
         "2.5810560557050892",
         "2.224550250443765",
         "2.1223659667968775"
        ],
        [
         "24",
         "1r92HGwjLM",
         "0.37979379892523646",
         "0.39044531457808523",
         "0.30220400209825693",
         "0.32406147384643547"
        ],
        [
         "25",
         "1sMQZUQeBN",
         "0.2598896688936667",
         "0.31055622282531553",
         "0.17616604061400526",
         "0.20772040081024173"
        ],
        [
         "26",
         "1xwiuU4r6c",
         "0.8024018306251535",
         "0.8845096294171694",
         "0.5661341071277965",
         "0.5147580566406249"
        ],
        [
         "27",
         "27zX3H6W63",
         "0.31386785039554427",
         "0.4647769682756726",
         "0.25954280419151354",
         "0.35043646812438956"
        ],
        [
         "28",
         "28qHOch9bS",
         "0.2065080422004802",
         "0.19817365408959015",
         "0.1691235069097439",
         "0.14155780839920037"
        ],
        [
         "29",
         "2BNA0aP3oU",
         "0.22602620033349657",
         "0.23505907007740848",
         "0.18009151990033895",
         "0.17998809814453134"
        ],
        [
         "30",
         "2BiH3BDfGw",
         "0.9218247692856968",
         "0.9148829723262795",
         "0.7917518646078932",
         "0.7776819000244138"
        ],
        [
         "31",
         "2CA6I1RKcB",
         "0.16009871832105735",
         "0.11992848812380148",
         "0.09448862327293069",
         "0.07077693676948547"
        ],
        [
         "32",
         "2De4Jyw7Ti",
         "0.7263191603494755",
         "0.6317006308722738",
         "0.6200924768939615",
         "0.5321081924438473"
        ],
        [
         "33",
         "2FpsUn2CH9",
         "0.21258009807546618",
         "0.32777749986665966",
         "0.1663169330678481",
         "0.1936108646392823"
        ],
        [
         "34",
         "2JTisCUZQ6",
         "0.6155352523570518",
         "0.6346442574080091",
         "0.4443095284260483",
         "0.45167137145996106"
        ],
        [
         "35",
         "2JkCrafbNA",
         "2.17993801643995",
         "2.0489365881425865",
         "1.564414830994084",
         "1.3531417236328132"
        ],
        [
         "36",
         "2LNekjQZty",
         "0.20561023639301346",
         "0.2354663671436532",
         "0.14141982193937438",
         "0.16816477870941166"
        ],
        [
         "37",
         "2Rk9R7YxlV",
         "0.2468298585812621",
         "0.2569798842126148",
         "0.20715783725784026",
         "0.20931089282035834"
        ],
        [
         "38",
         "2XyAGH7xaA",
         "0.8552902736598792",
         "0.8006211610357896",
         "0.7209434654988556",
         "0.6654438476562496"
        ],
        [
         "39",
         "2Zad7etGi2",
         "0.6666392218658224",
         "0.5749876983685392",
         "0.4829692551468727",
         "0.4256358871459961"
        ],
        [
         "40",
         "2dTB0QctZx",
         "0.22582540573377594",
         "0.22165118757134342",
         "0.14051184987462523",
         "0.1474869747161863"
        ],
        [
         "41",
         "2e6UkHYDxt",
         "1.4211000980800623",
         "1.6886111467395009",
         "1.171233694319684",
         "1.2853377075195305"
        ],
        [
         "42",
         "2nVPW3dpzs",
         "0.3079212227661893",
         "0.3350748971054342",
         "0.25997209612342564",
         "0.2526521263122559"
        ],
        [
         "43",
         "2oJAbEsFjS",
         "0.8108693094671713",
         "0.7538356400271848",
         "0.6784612200331537",
         "0.6103387603759771"
        ],
        [
         "44",
         "2pklQCdhjZ",
         "1.588704189911567",
         "1.6447102351594622",
         "1.2529936534809534",
         "1.3043595237731933"
        ],
        [
         "45",
         "2rCzNsSrfI",
         "0.9578402221786373",
         "0.9350546983194336",
         "0.7664523109856873",
         "0.792704147338867"
        ],
        [
         "46",
         "2tlKmkGDI6",
         "1.820747280201446",
         "1.5129505640522323",
         "1.2902846120058726",
         "1.1381665954589857"
        ],
        [
         "47",
         "319DIklwP0",
         "0.21137964061992448",
         "0.22219738252571228",
         "0.0850390730871993",
         "0.08641825460195543"
        ],
        [
         "48",
         "31l0JRoatB",
         "0.7103256139197999",
         "0.5589503526581171",
         "0.5506562860167896",
         "0.45451514053344744"
        ],
        [
         "49",
         "349hZxn3fp",
         "0.1225714121326103",
         "0.08894382057681638",
         "0.10435683799710545",
         "0.07628234291076659"
        ]
       ],
       "shape": {
        "columns": 5,
        "rows": 1045
       }
      },
      "text/html": [
       "<div>\n",
       "<style scoped>\n",
       "    .dataframe tbody tr th:only-of-type {\n",
       "        vertical-align: middle;\n",
       "    }\n",
       "\n",
       "    .dataframe tbody tr th {\n",
       "        vertical-align: top;\n",
       "    }\n",
       "\n",
       "    .dataframe thead th {\n",
       "        text-align: right;\n",
       "    }\n",
       "</style>\n",
       "<table border=\"1\" class=\"dataframe\">\n",
       "  <thead>\n",
       "    <tr style=\"text-align: right;\">\n",
       "      <th></th>\n",
       "      <th>ticker</th>\n",
       "      <th>lgb_rmse</th>\n",
       "      <th>xgb_rmse</th>\n",
       "      <th>lgb_mae</th>\n",
       "      <th>xgb_mae</th>\n",
       "    </tr>\n",
       "  </thead>\n",
       "  <tbody>\n",
       "    <tr>\n",
       "      <th>0</th>\n",
       "      <td>02CJDrjOPG</td>\n",
       "      <td>0.336917</td>\n",
       "      <td>0.402109</td>\n",
       "      <td>0.263567</td>\n",
       "      <td>0.301405</td>\n",
       "    </tr>\n",
       "    <tr>\n",
       "      <th>1</th>\n",
       "      <td>05gj77duN2</td>\n",
       "      <td>1.190234</td>\n",
       "      <td>1.245611</td>\n",
       "      <td>0.840431</td>\n",
       "      <td>0.845834</td>\n",
       "    </tr>\n",
       "    <tr>\n",
       "      <th>2</th>\n",
       "      <td>08cAmXR8Dh</td>\n",
       "      <td>0.186710</td>\n",
       "      <td>0.171710</td>\n",
       "      <td>0.134153</td>\n",
       "      <td>0.139883</td>\n",
       "    </tr>\n",
       "    <tr>\n",
       "      <th>3</th>\n",
       "      <td>09KIlY85uZ</td>\n",
       "      <td>0.178506</td>\n",
       "      <td>0.169651</td>\n",
       "      <td>0.143271</td>\n",
       "      <td>0.124180</td>\n",
       "    </tr>\n",
       "    <tr>\n",
       "      <th>4</th>\n",
       "      <td>0Hw9RH7EtD</td>\n",
       "      <td>0.158514</td>\n",
       "      <td>0.342832</td>\n",
       "      <td>0.129112</td>\n",
       "      <td>0.161644</td>\n",
       "    </tr>\n",
       "    <tr>\n",
       "      <th>...</th>\n",
       "      <td>...</td>\n",
       "      <td>...</td>\n",
       "      <td>...</td>\n",
       "      <td>...</td>\n",
       "      <td>...</td>\n",
       "    </tr>\n",
       "    <tr>\n",
       "      <th>1040</th>\n",
       "      <td>zkD88pjACe</td>\n",
       "      <td>1.408882</td>\n",
       "      <td>1.451033</td>\n",
       "      <td>1.010775</td>\n",
       "      <td>0.992108</td>\n",
       "    </tr>\n",
       "    <tr>\n",
       "      <th>1041</th>\n",
       "      <td>zkIrp2N4H9</td>\n",
       "      <td>1.018479</td>\n",
       "      <td>1.246777</td>\n",
       "      <td>0.780901</td>\n",
       "      <td>0.894807</td>\n",
       "    </tr>\n",
       "    <tr>\n",
       "      <th>1042</th>\n",
       "      <td>zkhvylJpde</td>\n",
       "      <td>4.590113</td>\n",
       "      <td>4.853716</td>\n",
       "      <td>3.607223</td>\n",
       "      <td>3.473907</td>\n",
       "    </tr>\n",
       "    <tr>\n",
       "      <th>1043</th>\n",
       "      <td>zmu5fxWn4o</td>\n",
       "      <td>1.984022</td>\n",
       "      <td>0.301138</td>\n",
       "      <td>1.623701</td>\n",
       "      <td>0.232054</td>\n",
       "    </tr>\n",
       "    <tr>\n",
       "      <th>1044</th>\n",
       "      <td>ztX6XXJfdm</td>\n",
       "      <td>0.886158</td>\n",
       "      <td>0.099900</td>\n",
       "      <td>0.858992</td>\n",
       "      <td>0.067096</td>\n",
       "    </tr>\n",
       "  </tbody>\n",
       "</table>\n",
       "<p>1045 rows × 5 columns</p>\n",
       "</div>"
      ],
      "text/plain": [
       "          ticker  lgb_rmse  xgb_rmse   lgb_mae   xgb_mae\n",
       "0     02CJDrjOPG  0.336917  0.402109  0.263567  0.301405\n",
       "1     05gj77duN2  1.190234  1.245611  0.840431  0.845834\n",
       "2     08cAmXR8Dh  0.186710  0.171710  0.134153  0.139883\n",
       "3     09KIlY85uZ  0.178506  0.169651  0.143271  0.124180\n",
       "4     0Hw9RH7EtD  0.158514  0.342832  0.129112  0.161644\n",
       "...          ...       ...       ...       ...       ...\n",
       "1040  zkD88pjACe  1.408882  1.451033  1.010775  0.992108\n",
       "1041  zkIrp2N4H9  1.018479  1.246777  0.780901  0.894807\n",
       "1042  zkhvylJpde  4.590113  4.853716  3.607223  3.473907\n",
       "1043  zmu5fxWn4o  1.984022  0.301138  1.623701  0.232054\n",
       "1044  ztX6XXJfdm  0.886158  0.099900  0.858992  0.067096\n",
       "\n",
       "[1045 rows x 5 columns]"
      ]
     },
     "execution_count": 14,
     "metadata": {},
     "output_type": "execute_result"
    }
   ],
   "source": [
    "def evaluate_models(df):\n",
    "    results = []\n",
    "    for ticker, df_grp in df.groupby('ticker'):\n",
    "        y_true = df_grp['close']\n",
    "        y_pred_lgb = df_grp['lightGBM_pred']\n",
    "        y_pred_xgb = df_grp['XGB_pred']\n",
    "\n",
    "        results.append({'ticker': ticker,\n",
    "                        'lgb_rmse': np.sqrt(mean_squared_error(y_true, y_pred_lgb)),\n",
    "                        'xgb_rmse': np.sqrt(mean_squared_error(y_true, y_pred_xgb)),\n",
    "                        'lgb_mae': mean_absolute_error(y_true, y_pred_lgb),\n",
    "                        'xgb_mae': mean_absolute_error(y_true, y_pred_xgb)})\n",
    "    return pd.DataFrame(results)\n",
    "\n",
    "df_eval = evaluate_models(df_features_test[['ticker','close','lightGBM_pred','XGB_pred']])\n",
    "print(f\"LightGBM RMSE: {lgb_rmse:.4f}\")\n",
    "print(f\"XGBoost RMSE: {xgb_rmse:.4f}\\n\")\n",
    "\n",
    "print(f\"LightGBM MAE: {lgb_mae:.4f}\")\n",
    "print(f\"XGBoost MAE: {xgb_mae:.4f}\")\n",
    "\n",
    "df_eval"
   ]
  },
  {
   "cell_type": "markdown",
   "id": "7cd64880",
   "metadata": {},
   "source": [
    "#### From the results above, XGBoost performs slightly better than LightGBM"
   ]
  },
  {
   "cell_type": "code",
   "execution_count": null,
   "id": "cc8768e4",
   "metadata": {},
   "outputs": [],
   "source": [
    "\n"
   ]
  }
 ],
 "metadata": {
  "kernelspec": {
   "display_name": ".venv",
   "language": "python",
   "name": "python3"
  },
  "language_info": {
   "codemirror_mode": {
    "name": "ipython",
    "version": 3
   },
   "file_extension": ".py",
   "mimetype": "text/x-python",
   "name": "python",
   "nbconvert_exporter": "python",
   "pygments_lexer": "ipython3",
   "version": "3.11.7"
  }
 },
 "nbformat": 4,
 "nbformat_minor": 5
}
